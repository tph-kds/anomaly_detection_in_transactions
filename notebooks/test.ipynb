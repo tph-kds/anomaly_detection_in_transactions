{
 "cells": [
  {
   "cell_type": "code",
   "execution_count": 1,
   "metadata": {},
   "outputs": [],
   "source": [
    "import torch"
   ]
  },
  {
   "cell_type": "code",
   "execution_count": 14,
   "metadata": {},
   "outputs": [
    {
     "data": {
      "text/plain": [
       "torch.Size([128, 3, 1])"
      ]
     },
     "execution_count": 14,
     "metadata": {},
     "output_type": "execute_result"
    }
   ],
   "source": [
    "# x = torch.randn((128, 3, 2))\n",
    "x = torch.full((128, 3, 1), 1)\n",
    "x.shape"
   ]
  },
  {
   "cell_type": "code",
   "execution_count": 17,
   "metadata": {},
   "outputs": [],
   "source": [
    "def get_labels(data):\n",
    "    # Ensure the input is a 1D tensor\n",
    "    if data.dim() == 2 and data.size(1) == 1:\n",
    "        data = data.squeeze()  # Convert from (N, 1) to (N,)\n",
    "\n",
    "    # Define normalization parameters\n",
    "    min_val = 15.0\n",
    "    max_val = 100.0\n",
    "\n",
    "    # Normalize data to the range [0, 100]\n",
    "    normalized_data = (data - min_val) / (max_val - min_val) * 100\n",
    "\n",
    "    # Define thresholds for labeling\n",
    "    low_risk_threshold = 60\n",
    "    moderate_risk_threshold = 85\n",
    "    high_risk_threshold = 100.0\n",
    "\n",
    "    # Initialize labels tensor\n",
    "    labels = torch.zeros_like(normalized_data, dtype=torch.long)\n",
    "\n",
    "    # Apply thresholds for labeling\n",
    "    labels[normalized_data < low_risk_threshold] = 0    # Low risk\n",
    "    labels[(normalized_data >= low_risk_threshold) & (normalized_data < moderate_risk_threshold)] = 1  # Moderate risk\n",
    "    labels[normalized_data >= moderate_risk_threshold] = 2  # High risk\n",
    "\n",
    "    return  labels.unsqueeze(1).type(torch.float32) "
   ]
  },
  {
   "cell_type": "code",
   "execution_count": 18,
   "metadata": {},
   "outputs": [
    {
     "name": "stdout",
     "output_type": "stream",
     "text": [
      "Labels:\n",
      " tensor([[0],\n",
      "        [0],\n",
      "        [0],\n",
      "        [0],\n",
      "        [0],\n",
      "        [0],\n",
      "        [0],\n",
      "        [0],\n",
      "        [0],\n",
      "        [0],\n",
      "        [0],\n",
      "        [0],\n",
      "        [0],\n",
      "        [0],\n",
      "        [0],\n",
      "        [0],\n",
      "        [0],\n",
      "        [0],\n",
      "        [0],\n",
      "        [0],\n",
      "        [0]])\n"
     ]
    }
   ],
   "source": [
    "# Example input tensor\n",
    "input_tensor = torch.tensor([[0.4803],\n",
    "                              [0.4883],\n",
    "                              [0.4726],\n",
    "                              [0.4657],\n",
    "                              [0.4710],\n",
    "                              [0.4884],\n",
    "                              [0.4831],\n",
    "                              [0.4762],\n",
    "                              [0.4671],\n",
    "                              [0.4692],\n",
    "                              [0.4713],\n",
    "                              [0.4655],\n",
    "                              [0.4761],\n",
    "                              [0.4763],\n",
    "                              [0.4756],\n",
    "                              [0.4811],\n",
    "                              [0.4750],\n",
    "                              [0.4830],\n",
    "                              [0.4656],\n",
    "                              [0.4888],\n",
    "                              [0.4810]], dtype=torch.float32)\n",
    "\n",
    "# Get labels for the input tensor\n",
    "labels = get_labels(input_tensor)\n",
    "\n",
    "# Print the resulting labels\n",
    "print(\"Labels:\\n\", labels)"
   ]
  },
  {
   "cell_type": "code",
   "execution_count": 19,
   "metadata": {},
   "outputs": [
    {
     "name": "stdout",
     "output_type": "stream",
     "text": [
      "tensor([[ 0.0513,  2.0825,  0.0101, -1.6209, -0.0532],\n",
      "        [-0.8538, -0.1364, -0.0049, -1.3204, -0.0113],\n",
      "        [-1.0004, -0.9465,  1.8522, -1.4136,  0.2383]], requires_grad=True)\n",
      "tensor([1, 3, 4])\n",
      "tensor(1.6139, grad_fn=<NllLossBackward0>)\n"
     ]
    }
   ],
   "source": [
    "loss = torch.nn.CrossEntropyLoss()\n",
    "input = torch.randn(3, 5, requires_grad=True)\n",
    "print(input)\n",
    "target = torch.empty(3, dtype=torch.long).random_(5)\n",
    "print(target)\n",
    "output = loss(input, target)\n",
    "print(output)"
   ]
  },
  {
   "cell_type": "code",
   "execution_count": 14,
   "metadata": {},
   "outputs": [
    {
     "ename": "TypeError",
     "evalue": "full() received an invalid combination of arguments - got (int, int, dtype=torch.dtype), but expected one of:\n * (tuple of ints size, Number fill_value, *, tuple of names names, torch.dtype dtype = None, torch.layout layout = None, torch.device device = None, bool pin_memory = False, bool requires_grad = False)\n * (tuple of ints size, Number fill_value, *, Tensor out = None, torch.dtype dtype = None, torch.layout layout = None, torch.device device = None, bool pin_memory = False, bool requires_grad = False)\n",
     "output_type": "error",
     "traceback": [
      "\u001b[1;31m---------------------------------------------------------------------------\u001b[0m",
      "\u001b[1;31mTypeError\u001b[0m                                 Traceback (most recent call last)",
      "Cell \u001b[1;32mIn[14], line 1\u001b[0m\n\u001b[1;32m----> 1\u001b[0m fake_labels \u001b[38;5;241m=\u001b[39m \u001b[43mtorch\u001b[49m\u001b[38;5;241;43m.\u001b[39;49m\u001b[43mfull\u001b[49m\u001b[43m(\u001b[49m\u001b[38;5;241;43m128\u001b[39;49m\u001b[43m,\u001b[49m\u001b[43m \u001b[49m\u001b[38;5;241;43m3\u001b[39;49m\u001b[43m,\u001b[49m\u001b[43m \u001b[49m\u001b[43mdtype\u001b[49m\u001b[38;5;241;43m=\u001b[39;49m\u001b[43mtorch\u001b[49m\u001b[38;5;241;43m.\u001b[39;49m\u001b[43mlong\u001b[49m\u001b[43m)\u001b[49m  \u001b[38;5;66;03m# Label as class 2\u001b[39;00m\n\u001b[0;32m      2\u001b[0m fake_labels\u001b[38;5;241m.\u001b[39mshape\n\u001b[0;32m      3\u001b[0m fake_labels\u001b[38;5;241m.\u001b[39mmean(dim\u001b[38;5;241m=\u001b[39m\u001b[38;5;241m1\u001b[39m)\n",
      "\u001b[1;31mTypeError\u001b[0m: full() received an invalid combination of arguments - got (int, int, dtype=torch.dtype), but expected one of:\n * (tuple of ints size, Number fill_value, *, tuple of names names, torch.dtype dtype = None, torch.layout layout = None, torch.device device = None, bool pin_memory = False, bool requires_grad = False)\n * (tuple of ints size, Number fill_value, *, Tensor out = None, torch.dtype dtype = None, torch.layout layout = None, torch.device device = None, bool pin_memory = False, bool requires_grad = False)\n"
     ]
    }
   ],
   "source": [
    "fake_labels = torch.full((128, 100, 3), 3, dtype=torch.long)  # Label as class 2\n",
    "fake_labels.shape\n",
    "fake_labels.mean(dim=1)"
   ]
  },
  {
   "cell_type": "code",
   "execution_count": 15,
   "metadata": {},
   "outputs": [
    {
     "data": {
      "text/plain": [
       "torch.Size([128])"
      ]
     },
     "execution_count": 15,
     "metadata": {},
     "output_type": "execute_result"
    }
   ],
   "source": [
    "target = torch.empty(128, dtype=torch.long).random_(5)\n",
    "target = target.view(-1)\n",
    "target.shape"
   ]
  },
  {
   "cell_type": "code",
   "execution_count": 21,
   "metadata": {},
   "outputs": [
    {
     "name": "stdout",
     "output_type": "stream",
     "text": [
      "tensor([[2],\n",
      "        [0],\n",
      "        [1],\n",
      "        [0],\n",
      "        [2],\n",
      "        [2],\n",
      "        [1],\n",
      "        [0],\n",
      "        [1],\n",
      "        [0],\n",
      "        [0],\n",
      "        [2],\n",
      "        [1],\n",
      "        [0],\n",
      "        [0],\n",
      "        [2],\n",
      "        [2],\n",
      "        [0],\n",
      "        [1],\n",
      "        [1],\n",
      "        [0],\n",
      "        [2],\n",
      "        [0],\n",
      "        [1],\n",
      "        [1],\n",
      "        [2],\n",
      "        [0],\n",
      "        [2],\n",
      "        [0],\n",
      "        [0],\n",
      "        [2],\n",
      "        [1],\n",
      "        [2],\n",
      "        [2],\n",
      "        [0],\n",
      "        [1],\n",
      "        [2],\n",
      "        [2],\n",
      "        [1],\n",
      "        [1],\n",
      "        [2],\n",
      "        [0],\n",
      "        [2],\n",
      "        [0],\n",
      "        [1],\n",
      "        [1],\n",
      "        [1],\n",
      "        [1],\n",
      "        [2],\n",
      "        [0],\n",
      "        [0],\n",
      "        [0],\n",
      "        [0],\n",
      "        [1],\n",
      "        [1],\n",
      "        [1],\n",
      "        [1],\n",
      "        [2],\n",
      "        [0],\n",
      "        [2],\n",
      "        [1],\n",
      "        [0],\n",
      "        [2],\n",
      "        [2],\n",
      "        [1],\n",
      "        [2],\n",
      "        [0],\n",
      "        [2],\n",
      "        [0],\n",
      "        [1],\n",
      "        [0],\n",
      "        [1],\n",
      "        [0],\n",
      "        [0],\n",
      "        [0],\n",
      "        [0],\n",
      "        [0],\n",
      "        [2],\n",
      "        [0],\n",
      "        [1],\n",
      "        [0],\n",
      "        [1],\n",
      "        [1],\n",
      "        [2],\n",
      "        [2],\n",
      "        [2],\n",
      "        [0],\n",
      "        [1],\n",
      "        [1],\n",
      "        [0],\n",
      "        [2],\n",
      "        [1],\n",
      "        [2],\n",
      "        [1],\n",
      "        [1],\n",
      "        [0],\n",
      "        [0],\n",
      "        [0],\n",
      "        [1],\n",
      "        [2],\n",
      "        [0],\n",
      "        [2],\n",
      "        [1],\n",
      "        [1],\n",
      "        [1],\n",
      "        [1],\n",
      "        [2],\n",
      "        [2],\n",
      "        [0],\n",
      "        [1],\n",
      "        [0],\n",
      "        [0],\n",
      "        [1],\n",
      "        [0],\n",
      "        [0],\n",
      "        [0],\n",
      "        [2],\n",
      "        [1],\n",
      "        [2],\n",
      "        [1],\n",
      "        [0],\n",
      "        [1],\n",
      "        [1],\n",
      "        [1],\n",
      "        [1],\n",
      "        [0],\n",
      "        [1],\n",
      "        [1]])\n",
      "5571\n"
     ]
    },
    {
     "name": "stderr",
     "output_type": "stream",
     "text": [
      "C:\\Users\\ADMIN\\AppData\\Local\\Temp\\ipykernel_22756\\4233379951.py:9: FutureWarning: `nn.init.normal` is now deprecated in favor of `nn.init.normal_`.\n",
      "  noise = Variable(init.normal(torch.zeros(batch_size,seq_len,3),mean=0,std=0.1)).to(device)\n"
     ]
    }
   ],
   "source": [
    "batch_size = 128\n",
    "seq_len = 100\n",
    "in_dim = 15\n",
    "device = \"cpu\"\n",
    "import torch\n",
    "from torch.autograd import Variable\n",
    "import torch.nn.init as init\n",
    "\n",
    "noise = Variable(init.normal(torch.zeros(batch_size,seq_len,3),mean=0,std=0.1)).to(device)\n",
    "out_fake_data = noise.mean(dim=1).argmax(dim=1, keepdim=True)\n",
    "print(out_fake_data)\n",
    "labels = torch.Tensor([0, 1, 1, 1, 0, 1, 0, 1, 1, 0, 0, 0, 2, 1, 0, 0, 1, 1, 1, 2, 0, 1, 1, 0,\n",
    "        2, 1, 2, 2, 0, 1, 2, 1, 0, 1, 1, 1, 0, 1, 2, 1, 2, 2, 1, 1, 0, 1, 1, 2,\n",
    "        1, 0, 1, 2, 2, 2, 1, 2, 0, 1, 1, 0, 1, 1, 1, 0, 2, 1, 0, 1, 0, 1, 0, 2,\n",
    "        2, 0, 2, 2, 0, 1, 2, 1, 0, 2, 1, 0, 2, 0, 1, 0, 1, 1, 1, 0, 2, 2, 2, 1,\n",
    "        0, 2, 0, 1, 2, 0, 0, 1, 0, 1, 1, 2, 0, 1, 1, 1, 0, 1, 1, 0, 2, 1, 0, 2,\n",
    "        2, 1, 1, 2, 1, 2, 1, 2])\n",
    "\n",
    "correct_fake =(out_fake_data == labels).sum().item()\n",
    "print(correct_fake)"
   ]
  },
  {
   "cell_type": "code",
   "execution_count": null,
   "metadata": {},
   "outputs": [],
   "source": []
  }
 ],
 "metadata": {
  "kernelspec": {
   "display_name": "anod_env",
   "language": "python",
   "name": "python3"
  },
  "language_info": {
   "codemirror_mode": {
    "name": "ipython",
    "version": 3
   },
   "file_extension": ".py",
   "mimetype": "text/x-python",
   "name": "python",
   "nbconvert_exporter": "python",
   "pygments_lexer": "ipython3",
   "version": "3.9.0"
  }
 },
 "nbformat": 4,
 "nbformat_minor": 2
}
